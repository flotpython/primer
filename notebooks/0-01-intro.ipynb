{
 "cells": [
  {
   "cell_type": "markdown",
   "metadata": {
    "slideshow": {
     "slide_type": "slide"
    }
   },
   "source": [
    "<div class=\"licence\">\n",
    "<span>Licence CC BY-NC-ND</span>\n",
    "<span>Thierry Parmentelat</span>\n",
    "<span><img src=\"media/inria-25-alpha.png\" /></span>\n",
    "</div>"
   ]
  },
  {
   "cell_type": "markdown",
   "metadata": {
    "slideshow": {
     "slide_type": ""
    }
   },
   "source": [
    "# Introduction\n",
    "\n",
    "**Cours Python / numérique / dataviz**"
   ]
  },
  {
   "cell_type": "markdown",
   "metadata": {
    "slideshow": {
     "slide_type": "slide"
    }
   },
   "source": [
    "## programme\n",
    "\n",
    "* pré-requis pour autres cours  \n",
    " (notamment mathématiques)\n",
    "* 3 x 3h\n",
    "  * le langage Python \n",
    "  * Python numérique (`numpy`)\n",
    "  * préparation (`pandas`) et  \n",
    "    visualisation (`matplotlib`) des données"
   ]
  },
  {
   "cell_type": "markdown",
   "metadata": {
    "slideshow": {
     "slide_type": "slide"
    }
   },
   "source": [
    "## objectifs\n",
    "\n",
    "* vernis sur les concepts du langage\n",
    "* et sur les outils de base  de calcul scientifique\n",
    "\n",
    "pour être capable de :\n",
    "\n",
    "* lire du code simple\n",
    "* écrire du code simple\n",
    "* mettre en oeuvre dans un notebook\n",
    "* et progressivement dans des programmes autonomes  \n",
    "  (pas forcément pendant cette première série de 3 cours)"
   ]
  },
  {
   "cell_type": "markdown",
   "metadata": {
    "slideshow": {
     "slide_type": "slide"
    }
   },
   "source": [
    "## outils utilisés\n",
    "\n",
    "* `nbhosting.inria.fr` : notebooks prêt à l'emploi  \n",
    "  * aucune installation nécessaire\n",
    "  * navigation dans les slides : *Espace* et *Shift-Espace*\n",
    "  * évaluer une cellule de code : *Shift-Entrée*\n",
    "* *\"handout\"* au format html (non interactif)\n",
    "  * https://flotpython-primer.readthedocs.io\n",
    "  \n",
    "* terminal (de préférence *bash*)\n",
    "* un éditeur de texte (si vous n'en avez pas : VScode)"
   ]
  },
  {
   "cell_type": "markdown",
   "metadata": {
    "slideshow": {
     "slide_type": "slide"
    }
   },
   "source": [
    "## forum de discussion\n",
    "\n",
    "* https://discourse.mines-paristech.fr`  "
   ]
  }
 ],
 "metadata": {
  "celltoolbar": "Slideshow",
  "ipub": {
   "sphinx": {
    "toggle_input": true,
    "toggle_input_all": true,
    "toggle_output": true,
    "toggle_output_all": true
   }
  },
  "jupytext": {
   "cell_metadata_filter": "all",
   "notebook_metadata_filter": "all,-language_info,-toc,-jupytext.text_representation.jupytext_version"
  },
  "kernelspec": {
   "display_name": "Python 3",
   "language": "python",
   "name": "python3"
  },
  "language_info": {
   "codemirror_mode": {
    "name": "ipython",
    "version": 3
   },
   "file_extension": ".py",
   "mimetype": "text/x-python",
   "name": "python",
   "nbconvert_exporter": "python",
   "pygments_lexer": "ipython3",
   "version": "3.7.3"
  },
  "notebookname": "Intro",
  "rise": {
   "autolaunch": true,
   "slideNumber": "c/t",
   "start_slideshow_at": "selected",
   "theme": "sky",
   "transition": "cube"
  },
  "toc": {
   "base_numbering": 1,
   "nav_menu": {},
   "number_sections": true,
   "sideBar": true,
   "skip_h1_title": false,
   "title_cell": "Table of Contents",
   "title_sidebar": "Contents",
   "toc_cell": false,
   "toc_position": {},
   "toc_section_display": true,
   "toc_window_display": false
  },
  "version": "1.0"
 },
 "nbformat": 4,
 "nbformat_minor": 2
}
